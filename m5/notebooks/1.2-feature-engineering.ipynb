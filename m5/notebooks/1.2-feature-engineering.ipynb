{
 "cells": [
  {
   "cell_type": "code",
   "execution_count": 1,
   "metadata": {},
   "outputs": [],
   "source": [
    "import numpy as np\n",
    "import pandas as pd\n",
    "import matplotlib.pyplot as plt\n",
    "from lightgbm import LGBMRegressor"
   ]
  },
  {
   "cell_type": "code",
   "execution_count": 2,
   "metadata": {},
   "outputs": [
    {
     "name": "stdout",
     "output_type": "stream",
     "text": [
      "CPU times: user 2.91 s, sys: 3.16 s, total: 6.07 s\n",
      "Wall time: 6.37 s\n"
     ]
    }
   ],
   "source": [
    "%%time\n",
    "df = pd.read_pickle(\"../data/interim/merged_raw_data.pkl\")"
   ]
  },
  {
   "cell_type": "code",
   "execution_count": 3,
   "metadata": {},
   "outputs": [],
   "source": [
    "df = df.set_index([\"id\", \"d\"])"
   ]
  },
  {
   "cell_type": "code",
   "execution_count": 4,
   "metadata": {},
   "outputs": [],
   "source": [
    "TARGET = \"sales\"\n",
    "FEATURES = [col for col in df.columns if col not in [\"id\", \"date\", \"d\", \"data\"] + [TARGET]]"
   ]
  },
  {
   "cell_type": "code",
   "execution_count": 54,
   "metadata": {},
   "outputs": [],
   "source": [
    "TRAIN_START = 0\n",
    "TRAIN_END = 365\n",
    "VAL_START = 366\n",
    "VAL_END = 365 + 28"
   ]
  },
  {
   "cell_type": "code",
   "execution_count": 62,
   "metadata": {},
   "outputs": [
    {
     "data": {
      "text/plain": [
       "(11128850, 21)"
      ]
     },
     "execution_count": 62,
     "metadata": {},
     "output_type": "execute_result"
    }
   ],
   "source": [
    "train = df[(df.index.get_level_values(1) >= TRAIN_START) & (df.index.get_level_values(1) <= TRAIN_END)]\n",
    "train.shape"
   ]
  },
  {
   "cell_type": "code",
   "execution_count": 63,
   "metadata": {},
   "outputs": [
    {
     "data": {
      "text/plain": [
       "(853720, 21)"
      ]
     },
     "execution_count": 63,
     "metadata": {},
     "output_type": "execute_result"
    }
   ],
   "source": [
    "val = df[(df.index.get_level_values(1) >= VAL_START) & (df.index.get_level_values(1) <= VAL_END)]\n",
    "val.shape"
   ]
  },
  {
   "cell_type": "code",
   "execution_count": 58,
   "metadata": {},
   "outputs": [
    {
     "data": {
      "text/plain": [
       "365"
      ]
     },
     "execution_count": 58,
     "metadata": {},
     "output_type": "execute_result"
    }
   ],
   "source": [
    "train[\"date\"].nunique()"
   ]
  },
  {
   "cell_type": "code",
   "execution_count": 59,
   "metadata": {},
   "outputs": [
    {
     "data": {
      "text/plain": [
       "28"
      ]
     },
     "execution_count": 59,
     "metadata": {},
     "output_type": "execute_result"
    }
   ],
   "source": [
    "val[\"date\"].nunique()"
   ]
  },
  {
   "cell_type": "code",
   "execution_count": 12,
   "metadata": {},
   "outputs": [],
   "source": [
    "test = df[df[\"data\"] == \"val\"]"
   ]
  },
  {
   "cell_type": "code",
   "execution_count": 64,
   "metadata": {},
   "outputs": [],
   "source": [
    "X_tr = train[FEATURES]\n",
    "X_val = val[FEATURES]\n",
    "X_test = test[FEATURES]"
   ]
  },
  {
   "cell_type": "code",
   "execution_count": 65,
   "metadata": {},
   "outputs": [],
   "source": [
    "y_tr = train[TARGET]\n",
    "y_val = val[TARGET]\n",
    "y_test = test[TARGET]"
   ]
  },
  {
   "cell_type": "code",
   "execution_count": 73,
   "metadata": {},
   "outputs": [],
   "source": [
    "model = LGBMRegressor(n_estimators = 50,\n",
    "                      learning_rate = 0.1,\n",
    "                      num_leaves = 2**5 - 1,\n",
    "                      max_bin = 100,\n",
    "                      subsample = 0.5,\n",
    "                      colsample = 0.5,\n",
    "                      n_jobs = -1,\n",
    "                      silent = -1,\n",
    "                      verbose = -1)"
   ]
  },
  {
   "cell_type": "code",
   "execution_count": 74,
   "metadata": {},
   "outputs": [
    {
     "name": "stdout",
     "output_type": "stream",
     "text": [
      "Training until validation scores don't improve for 100 rounds\n",
      "[10]\ttraining's l2: 7.19025\tvalid_1's l2: 8.77016\n",
      "[20]\ttraining's l2: 5.89809\tvalid_1's l2: 7.50397\n",
      "[30]\ttraining's l2: 5.44618\tvalid_1's l2: 7.11556\n",
      "[40]\ttraining's l2: 5.2092\tvalid_1's l2: 6.90378\n",
      "[50]\ttraining's l2: 5.04308\tvalid_1's l2: 6.75607\n",
      "Did not meet early stopping. Best iteration is:\n",
      "[50]\ttraining's l2: 5.04308\tvalid_1's l2: 6.75607\n"
     ]
    },
    {
     "data": {
      "text/plain": [
       "LGBMRegressor(boosting_type='gbdt', class_weight=None, colsample=0.5,\n",
       "              colsample_bytree=1.0, importance_type='split', learning_rate=0.1,\n",
       "              max_bin=100, max_depth=-1, min_child_samples=20,\n",
       "              min_child_weight=0.001, min_split_gain=0.0, n_estimators=50,\n",
       "              n_jobs=-1, num_leaves=31, objective=None, random_state=None,\n",
       "              reg_alpha=0.0, reg_lambda=0.0, silent=-1, subsample=0.5,\n",
       "              subsample_for_bin=200000, subsample_freq=0, verbose=-1)"
      ]
     },
     "execution_count": 74,
     "metadata": {},
     "output_type": "execute_result"
    }
   ],
   "source": [
    "model.fit(X_tr, y_tr, \n",
    "          eval_set = [(X_tr, y_tr), (X_val, y_val)], \n",
    "          eval_metric = 'l2',\n",
    "          verbose = 10,\n",
    "          early_stopping_rounds = 100)"
   ]
  },
  {
   "cell_type": "markdown",
   "metadata": {},
   "source": [
    "Step 1\n",
    "- Save X/y data\n",
    "- CV generator\n",
    "- run model\n",
    "- predict test set\n",
    "- restructure submission file\n",
    "\n",
    "Step 2\n",
    "- correct metric(wrmsse)\n",
    "- hyperparameter optimization\n",
    "- feature engineering"
   ]
  }
 ],
 "metadata": {
  "kernelspec": {
   "display_name": "Python 3",
   "language": "python",
   "name": "python3"
  },
  "language_info": {
   "codemirror_mode": {
    "name": "ipython",
    "version": 3
   },
   "file_extension": ".py",
   "mimetype": "text/x-python",
   "name": "python",
   "nbconvert_exporter": "python",
   "pygments_lexer": "ipython3",
   "version": "3.7.7"
  }
 },
 "nbformat": 4,
 "nbformat_minor": 4
}
