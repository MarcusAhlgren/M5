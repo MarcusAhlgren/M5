{
 "cells": [
  {
   "cell_type": "markdown",
   "metadata": {},
   "source": [
    "This notebook loads X_train, y_train and X_test. X_train and y_train are used for cross validating the model performance and X_test is used for creating predictions to be submitted."
   ]
  },
  {
   "cell_type": "code",
   "execution_count": 1,
   "metadata": {},
   "outputs": [],
   "source": [
    "import pandas as pd\n",
    "import numpy as np\n",
    "from lightgbm import LGBMRegressor\n",
    "import joblib"
   ]
  },
  {
   "cell_type": "code",
   "execution_count": 2,
   "metadata": {},
   "outputs": [
    {
     "name": "stdout",
     "output_type": "stream",
     "text": [
      "Wall time: 4.01 s\n"
     ]
    }
   ],
   "source": [
    "%%time\n",
    "X_train = pd.read_pickle(\"../data/interim/X_train.pkl\")"
   ]
  },
  {
   "cell_type": "code",
   "execution_count": 3,
   "metadata": {},
   "outputs": [
    {
     "name": "stdout",
     "output_type": "stream",
     "text": [
      "Wall time: 2.44 s\n"
     ]
    }
   ],
   "source": [
    "%%time\n",
    "y_train = pd.read_pickle(\"../data/interim/y_train.pkl\")"
   ]
  },
  {
   "cell_type": "code",
   "execution_count": 4,
   "metadata": {},
   "outputs": [],
   "source": [
    "TRAIN_START = 0\n",
    "TRAIN_END = 365\n",
    "VAL_START = 366\n",
    "VAL_END = 365 + 28"
   ]
  },
  {
   "cell_type": "code",
   "execution_count": 5,
   "metadata": {},
   "outputs": [
    {
     "data": {
      "text/plain": [
       "(11128850, 17)"
      ]
     },
     "execution_count": 5,
     "metadata": {},
     "output_type": "execute_result"
    }
   ],
   "source": [
    "X_tr = X_train[(X_train.index.get_level_values(1) >= TRAIN_START) & (X_train.index.get_level_values(1) <= TRAIN_END)]\n",
    "X_tr.shape"
   ]
  },
  {
   "cell_type": "code",
   "execution_count": 6,
   "metadata": {},
   "outputs": [
    {
     "data": {
      "text/plain": [
       "(11128850,)"
      ]
     },
     "execution_count": 6,
     "metadata": {},
     "output_type": "execute_result"
    }
   ],
   "source": [
    "y_tr = y_train[(y_train.index.get_level_values(1) >= TRAIN_START) & (y_train.index.get_level_values(1) <= TRAIN_END)]\n",
    "y_tr.shape"
   ]
  },
  {
   "cell_type": "code",
   "execution_count": 7,
   "metadata": {},
   "outputs": [
    {
     "data": {
      "text/plain": [
       "(853720, 17)"
      ]
     },
     "execution_count": 7,
     "metadata": {},
     "output_type": "execute_result"
    }
   ],
   "source": [
    "X_val = X_train[(X_train.index.get_level_values(1) >= VAL_START) & (X_train.index.get_level_values(1) <= VAL_END)]\n",
    "X_val.shape"
   ]
  },
  {
   "cell_type": "code",
   "execution_count": 8,
   "metadata": {},
   "outputs": [
    {
     "data": {
      "text/plain": [
       "(853720,)"
      ]
     },
     "execution_count": 8,
     "metadata": {},
     "output_type": "execute_result"
    }
   ],
   "source": [
    "y_val = y_train[(y_train.index.get_level_values(1) >= VAL_START) & (y_train.index.get_level_values(1) <= VAL_END)]\n",
    "y_val.shape"
   ]
  },
  {
   "cell_type": "code",
   "execution_count": 9,
   "metadata": {},
   "outputs": [],
   "source": [
    "CATEGORICAL_COLS = X_tr.select_dtypes(exclude=['category']).columns.tolist()"
   ]
  },
  {
   "cell_type": "code",
   "execution_count": 10,
   "metadata": {},
   "outputs": [],
   "source": [
    "params = {\"num_leaves\" : 2**5 - 1,\n",
    "          \"max_bin\" : 100,\n",
    "          \"subsample\" : 0.5,\n",
    "          \"colsample\" : 0.5,}"
   ]
  },
  {
   "cell_type": "code",
   "execution_count": 16,
   "metadata": {},
   "outputs": [
    {
     "data": {
      "text/plain": [
       "LGBMRegressor(boosting_type='gbdt', class_weight=None, colsample=0.5,\n",
       "              colsample_bytree=1.0, importance_type='split', learning_rate=0.1,\n",
       "              max_bin=100, max_depth=-1, min_child_samples=20,\n",
       "              min_child_weight=0.001, min_split_gain=0.0, n_estimators=1000,\n",
       "              n_jobs=-1, num_leaves=31, objective='tweedie', random_state=None,\n",
       "              reg_alpha=0.0, reg_lambda=0.0, silent=-1, subsample=0.5,\n",
       "              subsample_for_bin=200000, subsample_freq=0,\n",
       "              tweedie_variance_power=1.1, verbose=-1)"
      ]
     },
     "execution_count": 16,
     "metadata": {},
     "output_type": "execute_result"
    }
   ],
   "source": [
    "model = LGBMRegressor(n_estimators = 1000,\n",
    "                      learning_rate = 0.1,\n",
    "                      objective =  \"tweedie\",\n",
    "                      tweedie_variance_power = 1.1,\n",
    "                      n_jobs = -1,\n",
    "                      silent = -1,\n",
    "                      verbose = -1)\n",
    "model.set_params(**params)"
   ]
  },
  {
   "cell_type": "code",
   "execution_count": 17,
   "metadata": {},
   "outputs": [
    {
     "name": "stderr",
     "output_type": "stream",
     "text": [
      "c:\\users\\marcus\\.virtualenvs\\m5-gmhqqzo4\\lib\\site-packages\\lightgbm\\basic.py:1295: UserWarning: categorical_feature in Dataset is overridden.\n",
      "New categorical_feature is ['month', 'sell_price', 'snap_CA', 'snap_TX', 'snap_WI', 'wday', 'weekday', 'year']\n",
      "  'New categorical_feature is {}'.format(sorted(list(categorical_feature))))\n"
     ]
    },
    {
     "name": "stdout",
     "output_type": "stream",
     "text": [
      "Training until validation scores don't improve for 100 rounds\n",
      "[10]\ttraining's l2: 11.575\ttraining's tweedie: 9.00302\tvalid_1's l2: 14.3771\tvalid_1's tweedie: 10.4788\n",
      "[20]\ttraining's l2: 11.0179\ttraining's tweedie: 8.83699\tvalid_1's l2: 13.707\tvalid_1's tweedie: 10.3166\n",
      "[30]\ttraining's l2: 10.7991\ttraining's tweedie: 8.77598\tvalid_1's l2: 13.4548\tvalid_1's tweedie: 10.2616\n",
      "[40]\ttraining's l2: 10.6919\ttraining's tweedie: 8.75141\tvalid_1's l2: 13.3297\tvalid_1's tweedie: 10.2398\n",
      "[50]\ttraining's l2: 10.6349\ttraining's tweedie: 8.73857\tvalid_1's l2: 13.2657\tvalid_1's tweedie: 10.2287\n",
      "[60]\ttraining's l2: 10.5674\ttraining's tweedie: 8.73024\tvalid_1's l2: 13.2137\tvalid_1's tweedie: 10.2226\n",
      "[70]\ttraining's l2: 10.5135\ttraining's tweedie: 8.72397\tvalid_1's l2: 13.1737\tvalid_1's tweedie: 10.2176\n",
      "[80]\ttraining's l2: 10.4578\ttraining's tweedie: 8.71838\tvalid_1's l2: 13.1345\tvalid_1's tweedie: 10.2136\n",
      "[90]\ttraining's l2: 10.411\ttraining's tweedie: 8.71381\tvalid_1's l2: 13.1126\tvalid_1's tweedie: 10.2106\n",
      "[100]\ttraining's l2: 10.3833\ttraining's tweedie: 8.71047\tvalid_1's l2: 13.069\tvalid_1's tweedie: 10.2057\n",
      "[110]\ttraining's l2: 10.3566\ttraining's tweedie: 8.7072\tvalid_1's l2: 13.0516\tvalid_1's tweedie: 10.2031\n",
      "[120]\ttraining's l2: 10.3227\ttraining's tweedie: 8.70355\tvalid_1's l2: 12.9833\tvalid_1's tweedie: 10.1962\n",
      "[130]\ttraining's l2: 10.2966\ttraining's tweedie: 8.70066\tvalid_1's l2: 12.974\tvalid_1's tweedie: 10.1942\n",
      "[140]\ttraining's l2: 10.2769\ttraining's tweedie: 8.6984\tvalid_1's l2: 12.9735\tvalid_1's tweedie: 10.1931\n",
      "[150]\ttraining's l2: 10.259\ttraining's tweedie: 8.69598\tvalid_1's l2: 12.9618\tvalid_1's tweedie: 10.1916\n",
      "[160]\ttraining's l2: 10.232\ttraining's tweedie: 8.69355\tvalid_1's l2: 12.9511\tvalid_1's tweedie: 10.1901\n",
      "[170]\ttraining's l2: 10.201\ttraining's tweedie: 8.69104\tvalid_1's l2: 12.9241\tvalid_1's tweedie: 10.1878\n",
      "[180]\ttraining's l2: 10.1807\ttraining's tweedie: 8.68872\tvalid_1's l2: 12.8917\tvalid_1's tweedie: 10.1858\n",
      "[190]\ttraining's l2: 10.156\ttraining's tweedie: 8.68635\tvalid_1's l2: 12.8836\tvalid_1's tweedie: 10.1846\n",
      "[200]\ttraining's l2: 10.1425\ttraining's tweedie: 8.68474\tvalid_1's l2: 12.8792\tvalid_1's tweedie: 10.1835\n",
      "[210]\ttraining's l2: 10.1244\ttraining's tweedie: 8.68313\tvalid_1's l2: 12.8702\tvalid_1's tweedie: 10.1824\n",
      "[220]\ttraining's l2: 10.1048\ttraining's tweedie: 8.68107\tvalid_1's l2: 12.8627\tvalid_1's tweedie: 10.1811\n",
      "[230]\ttraining's l2: 10.0866\ttraining's tweedie: 8.67941\tvalid_1's l2: 12.8556\tvalid_1's tweedie: 10.18\n",
      "[240]\ttraining's l2: 10.0714\ttraining's tweedie: 8.67775\tvalid_1's l2: 12.8507\tvalid_1's tweedie: 10.1792\n",
      "[250]\ttraining's l2: 10.0571\ttraining's tweedie: 8.67623\tvalid_1's l2: 12.8389\tvalid_1's tweedie: 10.1783\n",
      "[260]\ttraining's l2: 10.0414\ttraining's tweedie: 8.67506\tvalid_1's l2: 12.8482\tvalid_1's tweedie: 10.1784\n",
      "[270]\ttraining's l2: 10.0292\ttraining's tweedie: 8.67392\tvalid_1's l2: 12.8442\tvalid_1's tweedie: 10.1777\n",
      "[280]\ttraining's l2: 10.0216\ttraining's tweedie: 8.67306\tvalid_1's l2: 12.8604\tvalid_1's tweedie: 10.178\n",
      "[290]\ttraining's l2: 10.0082\ttraining's tweedie: 8.67198\tvalid_1's l2: 12.8686\tvalid_1's tweedie: 10.1776\n",
      "[300]\ttraining's l2: 10.0004\ttraining's tweedie: 8.67104\tvalid_1's l2: 12.8636\tvalid_1's tweedie: 10.177\n",
      "[310]\ttraining's l2: 9.99184\ttraining's tweedie: 8.6699\tvalid_1's l2: 12.8627\tvalid_1's tweedie: 10.1763\n",
      "[320]\ttraining's l2: 9.98427\ttraining's tweedie: 8.66888\tvalid_1's l2: 12.8623\tvalid_1's tweedie: 10.1758\n",
      "[330]\ttraining's l2: 9.97516\ttraining's tweedie: 8.66795\tvalid_1's l2: 12.8553\tvalid_1's tweedie: 10.175\n",
      "[340]\ttraining's l2: 9.9631\ttraining's tweedie: 8.66709\tvalid_1's l2: 12.8548\tvalid_1's tweedie: 10.1747\n",
      "[350]\ttraining's l2: 9.95337\ttraining's tweedie: 8.66632\tvalid_1's l2: 12.8529\tvalid_1's tweedie: 10.1743\n",
      "Early stopping, best iteration is:\n",
      "[251]\ttraining's l2: 10.0566\ttraining's tweedie: 8.67617\tvalid_1's l2: 12.8387\tvalid_1's tweedie: 10.1783\n",
      "Wall time: 2min 30s\n"
     ]
    },
    {
     "data": {
      "text/plain": [
       "LGBMRegressor(boosting_type='gbdt', class_weight=None, colsample=0.5,\n",
       "              colsample_bytree=1.0, importance_type='split', learning_rate=0.1,\n",
       "              max_bin=100, max_depth=-1, min_child_samples=20,\n",
       "              min_child_weight=0.001, min_split_gain=0.0, n_estimators=1000,\n",
       "              n_jobs=-1, num_leaves=31, objective='tweedie', random_state=None,\n",
       "              reg_alpha=0.0, reg_lambda=0.0, silent=-1, subsample=0.5,\n",
       "              subsample_for_bin=200000, subsample_freq=0,\n",
       "              tweedie_variance_power=1.1, verbose=-1)"
      ]
     },
     "execution_count": 17,
     "metadata": {},
     "output_type": "execute_result"
    }
   ],
   "source": [
    "%%time\n",
    "model.fit(X_tr, y_tr, \n",
    "          eval_set = [(X_tr, y_tr), (X_val, y_val)], \n",
    "          categorical_feature = CATEGORICAL_COLS,\n",
    "          eval_metric = 'l2',\n",
    "          verbose = 10,\n",
    "          early_stopping_rounds = 100)"
   ]
  },
  {
   "cell_type": "code",
   "execution_count": null,
   "metadata": {},
   "outputs": [],
   "source": [
    "#joblib.dump(model, \"../models/model.pkl\")"
   ]
  }
 ],
 "metadata": {
  "kernelspec": {
   "display_name": "Python 3",
   "language": "python",
   "name": "python3"
  },
  "language_info": {
   "codemirror_mode": {
    "name": "ipython",
    "version": 3
   },
   "file_extension": ".py",
   "mimetype": "text/x-python",
   "name": "python",
   "nbconvert_exporter": "python",
   "pygments_lexer": "ipython3",
   "version": "3.7.0"
  }
 },
 "nbformat": 4,
 "nbformat_minor": 4
}
